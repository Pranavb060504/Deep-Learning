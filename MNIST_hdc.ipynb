{
 "cells": [
  {
   "cell_type": "code",
   "execution_count": 42,
   "metadata": {},
   "outputs": [],
   "source": [
    "import torch,os\n",
    "import tensorflow as tf\n",
    "import torchvision.transforms as transforms\n",
    "import torchvision.datasets as dset"
   ]
  },
  {
   "cell_type": "code",
   "execution_count": 43,
   "metadata": {},
   "outputs": [],
   "source": [
    "root = './data'\n",
    "if not os.path.exists(root):\n",
    "    os.mkdir(root)\n",
    "trans = transforms.Compose([transforms.ToTensor(), transforms.Normalize((0.5,), (1.0,))])\n",
    "# if not exist, download mnist dataset\n",
    "train_set = dset.MNIST(root=root, train=True, transform=trans, download=True)\n",
    "test_set = dset.MNIST(root=root, train=False, transform=trans, download=True)\n",
    "\n",
    "batch_size = 1000\n",
    "\n",
    "train_loader = torch.utils.data.DataLoader(\n",
    "                 dataset=train_set,\n",
    "                 batch_size=batch_size,\n",
    "                 shuffle=True)\n",
    "test_loader = torch.utils.data.DataLoader(\n",
    "                dataset=test_set,\n",
    "                batch_size=batch_size,\n",
    "                shuffle=False)\n",
    "use_cuda = torch.cuda.is_available()\n",
    "softmax=torch.nn.Softmax()"
   ]
  },
  {
   "cell_type": "code",
   "execution_count": 44,
   "metadata": {},
   "outputs": [],
   "source": [
    "class MLP:\n",
    "    def __init__(self,in_features,out_features):\n",
    "        self.L=torch.nn.Sequential(\n",
    "            torch.nn.Linear(in_features=in_features,out_features=256,bias=True),\n",
    "            torch.nn.ReLU(),\n",
    "            torch.nn.Linear(256,256,bias=True),\n",
    "            torch.nn.ReLU(),\n",
    "            torch.nn.Linear(256,out_features=out_features,bias=True)\n",
    "            )\n",
    "    def forward_pass(self,X):\n",
    "        return softmax(self.L(X))\n",
    "    \n",
    "    def accuracy(self,test_dataset):\n",
    "        c=0\n",
    "        for i in range(test_dataset.batch_size):\n",
    "            if(torch.argmax(self.forward_pass(torch.flatten(test_dataset.dataset[i][0])))==test_dataset.dataset[i][1]):\n",
    "                c+=1\n",
    "        return c/test_dataset.batch_size\n",
    "    \n",
    "def onehotencoding(y):\n",
    "    z=torch.zeros(10)\n",
    "    z[y]=1\n",
    "    return z\n",
    "\n",
    "def conv(y):\n",
    "    t=torch.argmax(y)\n",
    "    z=torch.zeros(10)\n",
    "    z[t]=1\n",
    "    return z\n",
    "    "
   ]
  },
  {
   "cell_type": "code",
   "execution_count": 45,
   "metadata": {},
   "outputs": [
    {
     "name": "stderr",
     "output_type": "stream",
     "text": [
      "C:\\Users\\prana\\AppData\\Local\\Temp\\ipykernel_21124\\3033164988.py:11: UserWarning: Implicit dimension choice for softmax has been deprecated. Change the call to include dim=X as an argument.\n",
      "  return softmax(self.L(X))\n"
     ]
    }
   ],
   "source": [
    "model=MLP(784,10)\n",
    "learning_rate=0.01\n",
    "loss=torch.nn.CrossEntropyLoss()\n",
    "optimizer=torch.optim.SGD([{\"params\":[model.L[0].weight,model.L[2].weight,model.L[4].weight,model.L[0].bias,model.L[2].bias,model.L[4].bias]}],lr=learning_rate)\n",
    "n_iters=1000\n",
    "for epoch in range(n_iters):\n",
    "    for pts in range(train_loader.batch_size):\n",
    "        optimizer.zero_grad()\n",
    "        y_pred=model.forward_pass(torch.flatten(train_loader.dataset[pts][0]))\n",
    "        l=loss(y_pred,onehotencoding(train_loader.dataset[pts][1]))\n",
    "        l.backward()\n",
    "        optimizer.step()\n",
    "\n"
   ]
  },
  {
   "cell_type": "code",
   "execution_count": 46,
   "metadata": {},
   "outputs": [
    {
     "name": "stderr",
     "output_type": "stream",
     "text": [
      "C:\\Users\\prana\\AppData\\Local\\Temp\\ipykernel_21124\\3033164988.py:11: UserWarning: Implicit dimension choice for softmax has been deprecated. Change the call to include dim=X as an argument.\n",
      "  return softmax(self.L(X))\n"
     ]
    },
    {
     "data": {
      "text/plain": [
       "0.843"
      ]
     },
     "execution_count": 46,
     "metadata": {},
     "output_type": "execute_result"
    }
   ],
   "source": [
    "model.accuracy(test_loader)\n"
   ]
  }
 ],
 "metadata": {
  "kernelspec": {
   "display_name": "env",
   "language": "python",
   "name": "python3"
  },
  "language_info": {
   "codemirror_mode": {
    "name": "ipython",
    "version": 3
   },
   "file_extension": ".py",
   "mimetype": "text/x-python",
   "name": "python",
   "nbconvert_exporter": "python",
   "pygments_lexer": "ipython3",
   "version": "3.10.10"
  },
  "orig_nbformat": 4
 },
 "nbformat": 4,
 "nbformat_minor": 2
}
