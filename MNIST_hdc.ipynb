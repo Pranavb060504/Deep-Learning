{
 "cells": [
  {
   "cell_type": "code",
   "execution_count": 1,
   "metadata": {},
   "outputs": [],
   "source": [
    "import torch,os\n",
    "import torchvision.transforms as transforms\n",
    "import torchvision.datasets as dset\n",
    "import torchvision\n",
    "import numpy as np\n",
    "import matplotlib.pyplot as plt"
   ]
  },
  {
   "cell_type": "code",
   "execution_count": 2,
   "metadata": {},
   "outputs": [],
   "source": [
    "root = './data'\n",
    "if not os.path.exists(root):\n",
    "    os.mkdir(root)\n",
    "trans = transforms.Compose([transforms.ToTensor(), transforms.Normalize((0.5,), (1.0,))])\n",
    "# if not exist, download mnist dataset\n",
    "train_set = dset.MNIST(root=root, train=True, transform=trans, download=True)\n",
    "test_set = dset.MNIST(root=root, train=False, transform=trans, download=True)\n",
    "\n",
    "batch_size = 1000\n",
    "\n",
    "train_loader = torch.utils.data.DataLoader(\n",
    "                 dataset=train_set,\n",
    "                 batch_size=batch_size,\n",
    "                 shuffle=True)\n",
    "test_loader = torch.utils.data.DataLoader(\n",
    "                dataset=test_set,\n",
    "                batch_size=batch_size,\n",
    "                shuffle=False)\n",
    "use_cuda = torch.cuda.is_available()\n",
    "softmax=torch.nn.Softmax()"
   ]
  },
  {
   "cell_type": "code",
   "execution_count": 3,
   "metadata": {},
   "outputs": [],
   "source": [
    "class MLP:\n",
    "    def __init__(self,in_features,out_features):\n",
    "        self.L=torch.nn.Sequential(\n",
    "            torch.nn.Linear(in_features=in_features,out_features=32,bias=True),\n",
    "            torch.nn.ReLU(),\n",
    "            torch.nn.Linear(32,64,bias=True),\n",
    "            torch.nn.ReLU(),\n",
    "            torch.nn.Linear(64,out_features=out_features,bias=True)\n",
    "            )\n",
    "    def forward_pass(self,X):\n",
    "        return softmax(self.L(X))\n",
    "    \n",
    "    def accuracy(self,test_dataset):\n",
    "        c=0\n",
    "        for i in range(test_dataset.batch_size):\n",
    "            if(torch.argmax(self.forward_pass(torch.flatten(test_dataset.dataset[i][0])))==test_dataset.dataset[i][1]):\n",
    "                c+=1\n",
    "        return c/test_dataset.batch_size\n",
    "    \n",
    "def onehotencoding(y):\n",
    "    z=torch.zeros(10)\n",
    "    z[y]=1\n",
    "    return z\n",
    "\n",
    "def conv(y):\n",
    "    t=torch.argmax(y)\n",
    "    z=torch.zeros(10)\n",
    "    z[t]=1\n",
    "    return z\n",
    "    "
   ]
  },
  {
   "cell_type": "code",
   "execution_count": 4,
   "metadata": {},
   "outputs": [
    {
     "name": "stderr",
     "output_type": "stream",
     "text": [
      "C:\\Users\\prana\\AppData\\Local\\Temp\\ipykernel_3664\\3890395406.py:11: UserWarning: Implicit dimension choice for softmax has been deprecated. Change the call to include dim=X as an argument.\n",
      "  return softmax(self.L(X))\n"
     ]
    }
   ],
   "source": [
    "model=MLP(784,10)\n",
    "learning_rate=0.01\n",
    "loss=torch.nn.CrossEntropyLoss()\n",
    "optimizer=torch.optim.SGD([{\"params\":[model.L[0].weight,model.L[2].weight,model.L[4].weight,model.L[0].bias,model.L[2].bias,model.L[4].bias]}],lr=learning_rate)\n",
    "n_iters=100\n",
    "y_o=[]\n",
    "for epoch in range(n_iters):\n",
    "    for pts in range(train_loader.batch_size):\n",
    "        optimizer.zero_grad()\n",
    "        y_pred=model.forward_pass(torch.flatten(train_loader.dataset[pts][0]))\n",
    "        l=loss(y_pred,onehotencoding(train_loader.dataset[pts][1]))\n",
    "        l2_lambda = 0.001\n",
    "        l2_norm = model.L[0].weight.pow(2.0).sum()+model.L[2].weight.pow(2.0).sum()+model.L[4].weight.pow(2.0).sum()+model.L[0].bias.pow(2.0).sum()+model.L[2].bias.pow(2.0).sum()+model.L[4].bias.pow(2.0).sum()\n",
    "        l = l + l2_lambda * l2_norm\n",
    "        l.backward()\n",
    "        optimizer.step()\n",
    "for pts in range(train_loader.batch_size):\n",
    "    y_o.append(model.forward_pass(torch.flatten(train_loader.dataset[pts][0])).detach())\n"
   ]
  },
  {
   "cell_type": "code",
   "execution_count": 5,
   "metadata": {},
   "outputs": [
    {
     "name": "stderr",
     "output_type": "stream",
     "text": [
      "C:\\Users\\prana\\AppData\\Local\\Temp\\ipykernel_3664\\3890395406.py:11: UserWarning: Implicit dimension choice for softmax has been deprecated. Change the call to include dim=X as an argument.\n",
      "  return softmax(self.L(X))\n"
     ]
    },
    {
     "name": "stdout",
     "output_type": "stream",
     "text": [
      "0.784\n",
      "tensor(0)\n"
     ]
    },
    {
     "data": {
      "text/plain": [
       "0"
      ]
     },
     "execution_count": 5,
     "metadata": {},
     "output_type": "execute_result"
    }
   ],
   "source": [
    "print(model.accuracy(test_loader))\n",
    "print(torch.argmax(model.forward_pass(torch.flatten(test_loader.dataset[3][0]))))\n",
    "test_loader.dataset[3][1]"
   ]
  },
  {
   "cell_type": "code",
   "execution_count": 54,
   "metadata": {},
   "outputs": [],
   "source": [
    "class decoder:\n",
    "    def __init__(self,in_features,out_features):\n",
    "        self.L=torch.nn.Sequential(\n",
    "            torch.nn.Linear(in_features=in_features,out_features=32,bias=True),\n",
    "            torch.nn.Linear(32,out_features=out_features,bias=True),\n",
    "            torch.nn.Softmax()\n",
    "            )\n",
    "        \n",
    "    def forward_pass(self,X):\n",
    "        return 255*self.L(X)\n",
    "    \n",
    "    def loss(self,test_dataset,model):\n",
    "        loss=0\n",
    "        l=torch.nn.MSELoss()\n",
    "        for i in range(test_dataset.batch_size):\n",
    "            v=model.forward_pass(torch.flatten(test_dataset.dataset[i][0]).detach())\n",
    "            tp=np.resize(self.forward_pass(v).detach().numpy(),(28,28))\n",
    "            loss+=l(tp,test_dataset.dataset[i][0])\n",
    "        return loss\n",
    "            "
   ]
  },
  {
   "cell_type": "code",
   "execution_count": 55,
   "metadata": {},
   "outputs": [
    {
     "name": "stderr",
     "output_type": "stream",
     "text": [
      "c:\\Users\\prana\\OneDrive\\Desktop\\IITHyderabad\\codes\\DL\\Assign3\\env\\lib\\site-packages\\torch\\nn\\modules\\container.py:204: UserWarning: Implicit dimension choice for softmax has been deprecated. Change the call to include dim=X as an argument.\n",
      "  input = module(input)\n"
     ]
    }
   ],
   "source": [
    "model1=decoder(10,784)\n",
    "learning_rate=0.1\n",
    "loss=torch.nn.MSELoss()\n",
    "optimizer=torch.optim.SGD([{\"params\":[model1.L[0].weight,model1.L[1].weight,model1.L[0].bias,model1.L[1].bias]}],lr=learning_rate)\n",
    "n_iters=100\n",
    "for epoch in range(n_iters):\n",
    "    for pts in range(train_loader.batch_size):\n",
    "        optimizer.zero_grad()\n",
    "        y_pred1=model1.forward_pass(y_o[pts])\n",
    "        l=loss(y_pred1,torch.flatten(train_loader.dataset[pts][0]))\n",
    "        l.backward()\n",
    "        optimizer.step()"
   ]
  },
  {
   "cell_type": "code",
   "execution_count": 56,
   "metadata": {},
   "outputs": [
    {
     "name": "stdout",
     "output_type": "stream",
     "text": [
      "1\n"
     ]
    },
    {
     "name": "stderr",
     "output_type": "stream",
     "text": [
      "C:\\Users\\prana\\AppData\\Local\\Temp\\ipykernel_3664\\3890395406.py:11: UserWarning: Implicit dimension choice for softmax has been deprecated. Change the call to include dim=X as an argument.\n",
      "  return softmax(self.L(X))\n"
     ]
    },
    {
     "data": {
      "image/png": "[encoded data removed]",
      "text/plain": [
       "<Figure size 640x480 with 1 Axes>"
      ]
     },
     "metadata": {},
     "output_type": "display_data"
    },
    {
     "data": {
      "text/plain": [
       "<matplotlib.image.AxesImage at 0x1c963d48a00>"
      ]
     },
     "execution_count": 56,
     "metadata": {},
     "output_type": "execute_result"
    },
    {
     "data": {
      "image/png": "[encoded data removed]",
      "text/plain": [
       "<Figure size 640x480 with 1 Axes>"
      ]
     },
     "metadata": {},
     "output_type": "display_data"
    }
   ],
   "source": [
    "print(test_loader.dataset[5][1])\n",
    "v=model.forward_pass(torch.flatten(test_loader.dataset[5][0]).detach())\n",
    "tp=np.resize(model1.forward_pass(v).detach().numpy(),(28,28))\n",
    "plt.imshow(tp,cmap='Greys_r')\n",
    "plt.show()\n",
    "plt.imshow(torch.squeeze(test_loader.dataset[5][0]).numpy(),cmap='Greys_r')"
   ]
  }
 ],
 "metadata": {
  "kernelspec": {
   "display_name": "env",
   "language": "python",
   "name": "python3"
  },
  "language_info": {
   "codemirror_mode": {
    "name": "ipython",
    "version": 3
   },
   "file_extension": ".py",
   "mimetype": "text/x-python",
   "name": "python",
   "nbconvert_exporter": "python",
   "pygments_lexer": "ipython3",
   "version": "3.10.10"
  },
  "orig_nbformat": 4
 },
 "nbformat": 4,
 "nbformat_minor": 2
}
